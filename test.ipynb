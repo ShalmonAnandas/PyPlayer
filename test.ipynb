{
 "cells": [
  {
   "cell_type": "code",
   "execution_count": null,
   "metadata": {},
   "outputs": [],
   "source": [
    "import os\n",
    "import requests\n",
    "import webbrowser"
   ]
  },
  {
   "cell_type": "code",
   "execution_count": null,
   "metadata": {},
   "outputs": [],
   "source": [
    "\n",
    "\n",
    "response = requests.get(\"https://api.themoviedb.org/3/search/\" +  + \"?api_key=87d5585a5497b373679e8bdc7d6f0d22&query=\" + media_query + \"\\\"\")"
   ]
  }
 ],
 "metadata": {
  "kernelspec": {
   "display_name": "Python 3.10.7 64-bit",
   "language": "python",
   "name": "python3"
  },
  "language_info": {
   "name": "python",
   "version": "3.10.7"
  },
  "orig_nbformat": 4,
  "vscode": {
   "interpreter": {
    "hash": "96e030cb8cbf480025cab4a5653fc6f2bf1f939ec36a881f3486b2b0b9cffb93"
   }
  }
 },
 "nbformat": 4,
 "nbformat_minor": 2
}
